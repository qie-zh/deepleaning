{
 "cells": [
  {
   "cell_type": "markdown",
   "id": "08a5f909",
   "metadata": {},
   "source": [
    "# 最邻近节点算法（k-nearest neighbors)"
   ]
  },
  {
   "cell_type": "markdown",
   "id": "234749e0",
   "metadata": {},
   "source": [
    "1. 如何选择k值\n",
    "2. 最好的距离"
   ]
  },
  {
   "cell_type": "markdown",
   "id": "ddac6447",
   "metadata": {},
   "source": [
    "**L1 distance（曼哈顿距离）**   $d1(I1,I2)=\\sum\\vert I_1^p-I_2^p\\vert$\n",
    "\n",
    "* 测试图像像素减去训练图像像素得到像素的差再相加\n",
    "* 坐标上体现为一个方形\n",
    "\n",
    "**L2 distance**   $d2(I1,I2)=\\sqrt{\\sum (I_1^p-I_2^p)^2}$\n",
    "\n",
    "* 坐标上体现为一个圆形"
   ]
  },
  {
   "cell_type": "markdown",
   "id": "dc7930cd",
   "metadata": {},
   "source": [
    "## 如何选择超参数\n",
    "\n",
    "\n",
    "### 1、把数据分成训练集 验证集 测试集\n",
    "\n",
    "训练效果最好的参数为最终的结果\n",
    "\n",
    "### 2、把数据分成很多小份进行交叉验证\n",
    "\n",
    "比如总共6份数据，1，2，3，4当作训练集，5当作验证集，6当作测试集，或者1，2，3，5当作训练以此类推。把效果最好的参数当作最后的结果，但是在深度学习中不常用。\n",
    "\n"
   ]
  },
  {
   "cell_type": "markdown",
   "id": "4ca0ce6d",
   "metadata": {},
   "source": [
    "## KNN的缺点\n",
    "1. 训练时间过长\n",
    "2. 不适合用在图像处理"
   ]
  },
  {
   "cell_type": "code",
   "execution_count": null,
   "id": "37d5f775",
   "metadata": {},
   "outputs": [],
   "source": []
  },
  {
   "cell_type": "code",
   "execution_count": null,
   "id": "49caf358",
   "metadata": {},
   "outputs": [],
   "source": []
  },
  {
   "cell_type": "code",
   "execution_count": null,
   "id": "04ed37bb",
   "metadata": {},
   "outputs": [],
   "source": []
  },
  {
   "cell_type": "code",
   "execution_count": null,
   "id": "b7ec7cf4",
   "metadata": {},
   "outputs": [],
   "source": []
  },
  {
   "cell_type": "code",
   "execution_count": null,
   "id": "120ce111",
   "metadata": {},
   "outputs": [],
   "source": []
  },
  {
   "cell_type": "code",
   "execution_count": null,
   "id": "2e73d508",
   "metadata": {},
   "outputs": [],
   "source": []
  }
 ],
 "metadata": {
  "kernelspec": {
   "display_name": "Python 3 (ipykernel)",
   "language": "python",
   "name": "python3"
  },
  "language_info": {
   "codemirror_mode": {
    "name": "ipython",
    "version": 3
   },
   "file_extension": ".py",
   "mimetype": "text/x-python",
   "name": "python",
   "nbconvert_exporter": "python",
   "pygments_lexer": "ipython3",
   "version": "3.10.8"
  }
 },
 "nbformat": 4,
 "nbformat_minor": 5
}
