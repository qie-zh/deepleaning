{
 "cells": [
  {
   "cell_type": "code",
   "execution_count": 2,
   "id": "10535310",
   "metadata": {},
   "outputs": [],
   "source": [
    "import cv2 as cv"
   ]
  },
  {
   "cell_type": "code",
   "execution_count": 3,
   "id": "9704dd1d",
   "metadata": {},
   "outputs": [],
   "source": [
    "img = cv.imread('Photos/cat.jpg')"
   ]
  },
  {
   "cell_type": "code",
   "execution_count": 4,
   "id": "bcbb49e9",
   "metadata": {},
   "outputs": [],
   "source": [
    "cv.imshow('cat',img)\n",
    "cv.waitKey(0)\n",
    "cv.destroyWindow('cat')"
   ]
  },
  {
   "cell_type": "code",
   "execution_count": null,
   "id": "25be931f",
   "metadata": {},
   "outputs": [],
   "source": []
  },
  {
   "cell_type": "code",
   "execution_count": null,
   "id": "68dee0c7",
   "metadata": {},
   "outputs": [],
   "source": []
  }
 ],
 "metadata": {
  "kernelspec": {
   "display_name": "Python 3 (ipykernel)",
   "language": "python",
   "name": "python3"
  },
  "language_info": {
   "codemirror_mode": {
    "name": "ipython",
    "version": 3
   },
   "file_extension": ".py",
   "mimetype": "text/x-python",
   "name": "python",
   "nbconvert_exporter": "python",
   "pygments_lexer": "ipython3",
   "version": "3.9.13"
  }
 },
 "nbformat": 4,
 "nbformat_minor": 5
}
